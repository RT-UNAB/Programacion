{
  "nbformat": 4,
  "nbformat_minor": 0,
  "metadata": {
    "colab": {
      "name": "PrimerPrograma.ipynb",
      "provenance": [],
      "authorship_tag": "ABX9TyMamTktlChIhz2dwh1rVuET",
      "include_colab_link": true
    },
    "kernelspec": {
      "name": "python3",
      "display_name": "Python 3"
    },
    "language_info": {
      "name": "python"
    }
  },
  "cells": [
    {
      "cell_type": "markdown",
      "metadata": {
        "id": "view-in-github",
        "colab_type": "text"
      },
      "source": [
        "<a href=\"https://colab.research.google.com/github/RT-UNAB/Programacion/blob/main/PrimerPrograma.ipynb\" target=\"_parent\"><img src=\"https://colab.research.google.com/assets/colab-badge.svg\" alt=\"Open In Colab\"/></a>"
      ]
    },
    {
      "cell_type": "code",
      "metadata": {
        "colab": {
          "base_uri": "https://localhost:8080/"
        },
        "id": "OjGPxouWbhZY",
        "outputId": "4aedca3b-bd68-4697-e094-3d63d72a49de"
      },
      "source": [
        "nota = float(input(\"ingrese su nota \"))\n",
        "if nota >= 3.95: \n",
        "  print (\"felicitaciones, aprobó con un \", nota)\n",
        "else:\n",
        "  print (\"prepárese para el examen \")"
      ],
      "execution_count": null,
      "outputs": [
        {
          "output_type": "stream",
          "text": [
            "ingrese su nota 3\n",
            "prepárese para el examen \n"
          ],
          "name": "stdout"
        }
      ]
    },
    {
      "cell_type": "markdown",
      "metadata": {
        "id": "ydpbqsswgqO4"
      },
      "source": [
        "Realice un script que pida un numero por pantalla y veri que si es par o impar."
      ]
    },
    {
      "cell_type": "code",
      "metadata": {
        "colab": {
          "base_uri": "https://localhost:8080/"
        },
        "id": "rAVBbrnzgsl5",
        "outputId": "10921bbd-a6f1-4f4a-e79d-843802315226"
      },
      "source": [
        "numero = int(input(\"ingrese un número \"))\n",
        "if (numero%2)==0:\n",
        "   print (\"su número es par\")\n",
        "else:\n",
        "  print (\"su número es impar\")\n"
      ],
      "execution_count": null,
      "outputs": [
        {
          "output_type": "stream",
          "text": [
            "ingrese un número 2\n",
            "su número es par\n"
          ],
          "name": "stdout"
        }
      ]
    },
    {
      "cell_type": "markdown",
      "metadata": {
        "id": "pMKnELjIh9N6"
      },
      "source": [
        "Escriba un programa que pida al usuario 2 palabras y veri que cual de ellas es mas\n",
        "larga o si tienen el mismo largo."
      ]
    },
    {
      "cell_type": "code",
      "metadata": {
        "colab": {
          "base_uri": "https://localhost:8080/"
        },
        "id": "2t4gq_Qrh_gX",
        "outputId": "21b0ac24-addf-42e9-fccf-c736bab81cc0"
      },
      "source": [
        "palabra1 = input(\"ingrese palabra1 \")\n",
        "palabra2 = input(\"ingrese palabra2 \")\n",
        "largoPalabra1 = len(palabra1)\n",
        "largoPalabra2 = len(palabra2)\n",
        "if largoPalabra1 > largoPalabra2 : \n",
        "  print (\"palabra 1 \",palabra1,\" es más larga que \", palabra2)\n",
        "elif largoPalabra2 > largoPalabra1 : \n",
        "  print (\"palabra 2 \",palabra2,\" es más larga que \", palabra1)\n",
        "else:\n",
        "  print (\"palabra 1 \",palabra1,\" y palabra 2 \",palabra2,\" tienen igual largo\")"
      ],
      "execution_count": null,
      "outputs": [
        {
          "output_type": "stream",
          "text": [
            "ingrese palabra1 Alquimia\n",
            "ingrese palabra2 Química\n",
            "palabra 1  Alquimia  es más larga que  Química\n"
          ],
          "name": "stdout"
        }
      ]
    }
  ]
}